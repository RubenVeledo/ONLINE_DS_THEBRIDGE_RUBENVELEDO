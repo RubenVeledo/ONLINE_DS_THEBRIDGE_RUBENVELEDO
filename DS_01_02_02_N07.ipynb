{
 "cells": [
  {
   "cell_type": "markdown",
   "metadata": {
    "id": "vigJnuAMSU4x"
   },
   "source": [
    "![TheBridge_logo_RGB_color.jpg](attachment:TheBridge_logo_RGB_color.jpg)"
   ]
  },
  {
   "cell_type": "markdown",
   "metadata": {
    "id": "2xmnwM17SU4y"
   },
   "source": [
    "![ejercicios.png](attachment:ejercicios.png)"
   ]
  },
  {
   "cell_type": "markdown",
   "metadata": {
    "id": "liorA-1ZSU4y"
   },
   "source": [
    "# Ejercicios Clases y Objetos"
   ]
  },
  {
   "cell_type": "markdown",
   "metadata": {
    "id": "5xXUz5l9SU4z"
   },
   "source": [
    "## Ejercicio 1\n",
    "Somos una empresa que tiene varias tiendas de electrodomesticos. Necesitamos un programa para manejar las tiendas, ver las ventas que han tenido, cuántos empleados hay, etc... Para ello vamos a modelizar la tienda en una clase, que tendrá las siguientes características:\n",
    "* Nombre clase: \"Tienda\"\n",
    "* Atributos comunes:\n",
    "    * Tipo: \"Electrodomésticos\"\n",
    "    * Abierta: True\n",
    "* Atributos propios de cada tienda:\n",
    "    * Nombre - String\n",
    "    * Dirección - String\n",
    "    * Número de empleados - int\n",
    "    * Ventas ultimos 3 meses - Lista de 3 numeros\n",
    "* Método para calcular las ventas de todos los meses, que devuelva un numero con todas las ventas.\n",
    "* Método que calcula la media de ventas de los ultimos meses, por empleado\n",
    "* Método que devuelve en un string el nombre de la tienda, junto con su dirección.\n",
    "* Método que obtiene las ventas del último mes.\n",
    "* Método para dar una proyección de las ventas en caso de haber invertido X dinero en marketing en esa tienda. Siendo X el parámetro de entrada. Si X es menor de 1000, las ventas de los ultimos 3 meses hubiesen sido de (1.2 x ventas), si es mayor o igual de 1000, las ventas hubiesen sido de (1.5 x venta). El método reescribe el atributo de ventas en los últimos 3 meses, y además devuelve las ventas con el aumento.\n",
    "\n",
    "Se pide:\n",
    "1. Implementar la clase \"Tienda\"\n",
    "2. Crear tres tiendas con datos inventados\n",
    "3. Comprueba en al menos una de ellas, todo lo implementado en la clase tienda (sus atributos, media de ventas, ventas/empleado...)\n",
    "3. Calcular las ventas del último mes de todas las tiendas. Para ello usa el bucle `for`\n",
    "4. Imprime por pantalla los nombres de las tiendas cuya dirección lleve el string \"Avenida\"\n",
    "5. Seguro que ya has hecho este apartado... Documenta la clase :)"
   ]
  },
  {
   "cell_type": "code",
   "execution_count": 201,
   "metadata": {
    "id": "5cLQcLxfSU4z"
   },
   "outputs": [],
   "source": [
    "class Tienda:\n",
    "    tipo = \"electrodomésticos\"\n",
    "    abierta = True\n",
    "\n",
    "    def __init__(self, nombre, direccion, empleados, trimestre):\n",
    "        self.nombre = nombre\n",
    "        self.direccion = direccion\n",
    "        self.empleados = empleados\n",
    "        self.trimestre = trimestre\n",
    "\n",
    "    def caracteristicas(self):\n",
    "        return \"Nombre: \" + self.nombre + \", \" + \"Dirección: \" + self.direccion + \", \" + \"Número empleados: \"  + str(self.empleados) + \", \" + \"Ventas trimestre: \" + str(self.trimestre)\n",
    "\n",
    "    def ventas_totales(self):\n",
    "        self.ventas_totales = sum(self.trimestre)\n",
    "        return self.ventas_totales\n",
    "\n",
    "    def media_ventas(self):\n",
    "        self.media_ventas = sum(self.trimestre) / self.empleados\n",
    "        return self.media_ventas\n",
    "\n",
    "    def id_tienda(self):\n",
    "        print(f\"{self.nombre} se encuentra en {self.direccion}\")\n",
    "\n",
    "    def ventas_ultimo_mes(self):\n",
    "        self.ventas_ultimo_mes = self.trimestre[-1]\n",
    "        return self.ventas_ultimo_mes\n",
    "\n",
    "    def proyeccion_ventas(self, X):\n",
    "        if X < 1000:\n",
    "            self.proyeccion_ventas = 1.2 * self.ventas_totales\n",
    "            return self.proyeccion_ventas\n",
    "        if X >= 1000:\n",
    "            self.proyeccion_ventas = 1.5 * self.ventas_totales\n",
    "            return self.proyeccion_ventas\n",
    "        print(f\"Ventas último mes: {self.ventas_ultimo_mes}, Proyección: {self.proyeccion_ventas}\") #Por qué me imprime el resultado de la proyección correctamente, pero no este print?"
   ]
  },
  {
   "cell_type": "code",
   "execution_count": 213,
   "metadata": {},
   "outputs": [
    {
     "name": "stdout",
     "output_type": "stream",
     "text": [
      "Nombre: Tienda Uno, Dirección: Avenida Primera, Número empleados: 3, Ventas trimestre: [32, 25, 40]\n",
      "Nombre: Tienda Dos, Dirección: Calle Segunda, Número empleados: 7, Ventas trimestre: [89, 95, 102]\n",
      "Nombre: Tienda Tres, Dirección: Avenida Tercera, Número empleados: 14, Ventas trimestre: [125, 100, 155]\n",
      "380\n",
      "27.142857142857142\n",
      "Tienda Tres se encuentra en Avenida Tercera\n",
      "None\n",
      "155\n",
      "456.0\n",
      "<class 'type'>\n",
      "<class '__main__.Tienda'>\n"
     ]
    }
   ],
   "source": [
    "tienda_1 = Tienda(\"Tienda Uno\", \"Avenida Primera\", 3, [32, 25, 40])\n",
    "print(tienda_1.caracteristicas())\n",
    "tienda_2 = Tienda(\"Tienda Dos\", \"Calle Segunda\", 7, [89, 95, 102])\n",
    "print(tienda_2.caracteristicas())\n",
    "tienda_3 = Tienda(\"Tienda Tres\", \"Avenida Tercera\", 14, [125, 100, 155])\n",
    "print(tienda_3.caracteristicas())\n",
    "print(tienda_3.ventas_totales())\n",
    "print(tienda_3.media_ventas())\n",
    "print(tienda_3.id_tienda()) #Aquí me está imprimiendo bien lo solicitado pero también me imprime un None ¿por qué?\n",
    "print(tienda_3.ventas_ultimo_mes())\n",
    "print(tienda_3.proyeccion_ventas(900)) #¿Por qué me imprime el resultado de la proyección correctamente, pero no el print con toda la información?\n",
    "print(type(Tienda))\n",
    "print(type(tienda_3))"
   ]
  },
  {
   "cell_type": "code",
   "execution_count": 239,
   "metadata": {},
   "outputs": [
    {
     "name": "stdout",
     "output_type": "stream",
     "text": [
      "40\n",
      "102\n"
     ]
    },
    {
     "ename": "TypeError",
     "evalue": "'int' object is not callable",
     "output_type": "error",
     "traceback": [
      "\u001b[1;31m---------------------------------------------------------------------------\u001b[0m",
      "\u001b[1;31mTypeError\u001b[0m                                 Traceback (most recent call last)",
      "Cell \u001b[1;32mIn[239], line 4\u001b[0m\n\u001b[0;32m      1\u001b[0m lista_tiendas \u001b[38;5;241m=\u001b[39m [tienda_1, tienda_2, tienda_3]\n\u001b[0;32m      3\u001b[0m \u001b[38;5;28;01mfor\u001b[39;00m tienda \u001b[38;5;129;01min\u001b[39;00m lista_tiendas:\n\u001b[1;32m----> 4\u001b[0m     \u001b[38;5;28mprint\u001b[39m(tienda\u001b[38;5;241m.\u001b[39mventas_ultimo_mes())\n",
      "\u001b[1;31mTypeError\u001b[0m: 'int' object is not callable"
     ]
    }
   ],
   "source": [
    "lista_tiendas = [tienda_1, tienda_2, tienda_3]\n",
    "\n",
    "for tienda in lista_tiendas:\n",
    "    print(tienda.ventas_ultimo_mes()) #¿Por qué me imprime bien el resultado de las dos primeras tiendas y no de la tercera?"
   ]
  },
  {
   "cell_type": "code",
   "execution_count": null,
   "metadata": {},
   "outputs": [],
   "source": []
  },
  {
   "cell_type": "markdown",
   "metadata": {
    "id": "WEBq7EpsSU40"
   },
   "source": [
    "## Ejercicio 2\n",
    "En este ejercicio vamos a implementar una clase *Perro* en Python. La clase tiene las siguientes características:\n",
    "* Cosas que sabemos seguro que tiene un perro\n",
    "    * Tiene 4 patas\n",
    "    * 2 orejas\n",
    "    * 2 ojos\n",
    "    * Una velocidad de 0. Por defecto, el perro está parado\n",
    "* Cuando se inicialice:\n",
    "    * El perro será de una determinada raza\n",
    "    * Por defecto tendrá pelo \"Marrón\", a no ser que se diga lo contrario.\n",
    "    * Por defecto no tendrá dueño, a no ser que se diga lo contrario.\n",
    "    \n",
    "* Dispondrá también de un método llamado andar, que tiene un argumento de entrada (aumento_velocidad). Este valor se le sumará a la velocidad que ya llevaba el perro.\n",
    "* Necesita otro método (parar), donde pondremos la velocidad a 0.\n",
    "* Otro método llamado \"ladrar\", que tendrá un argumento de entrada, y la salida será el siguiente string: \"GUAU!\" + el argumento de entrada.\n",
    "\n",
    "\n",
    "Se pide:\n",
    "* Implementa la clase *Perro*\n",
    "* Crea un objeto de tipo *Perro*, sin dueño\n",
    "* Comprueba que están bien todos sus atributos\n",
    "* Prueba que ande, y comprueba su velocidad\n",
    "* Páralo\n",
    "* Documenta la clase *Perro*"
   ]
  },
  {
   "cell_type": "code",
   "execution_count": 331,
   "metadata": {
    "id": "DpEWvbwGSU40"
   },
   "outputs": [],
   "source": [
    "class Perro:\n",
    "    patas = 4\n",
    "    orejas = 2\n",
    "    ojos = 2\n",
    "    velocidad = 0\n",
    "\n",
    "    def __init__(self, raza, pelo = \"Marrón\", dueño = False):\n",
    "        self.raza = raza\n",
    "        self.pelo = pelo\n",
    "        self.dueño = dueño\n",
    "\n",
    "    def andar(self, aumento_velocidad):\n",
    "        self.velocidad += aumento_velocidad \n",
    "        return self.velocidad\n",
    "\n",
    "    def parar(self):\n",
    "        self.velocidad = 0\n",
    "        return self.velocidad\n",
    "\n",
    "    def ladrar(self, palabra):\n",
    "        return print(f\"GUAU! {palabra}\")\n",
    "    "
   ]
  },
  {
   "cell_type": "code",
   "execution_count": 339,
   "metadata": {},
   "outputs": [
    {
     "name": "stdout",
     "output_type": "stream",
     "text": [
      "4\n",
      "2\n",
      "2\n",
      "0\n",
      "Schnauzer mini\n",
      "Marrón\n",
      "False\n",
      "15 15\n",
      "<bound method Perro.parar of <__main__.Perro object at 0x000001D10BB63410>> 15\n",
      "GUAU! Python\n",
      "None\n"
     ]
    }
   ],
   "source": [
    "perro_1 = Perro(\"Schnauzer mini\")\n",
    "print(perro_1.patas)\n",
    "print(perro_1.orejas)\n",
    "print(perro_1.ojos)\n",
    "print(perro_1.velocidad)\n",
    "print(perro_1.raza)\n",
    "print(perro_1.pelo)\n",
    "print(perro_1.dueño)\n",
    "print(perro_1.andar(15), perro_1.velocidad)\n",
    "print(perro_1.parar, perro_1.velocidad) #No entiendo el falle de esta parte\n",
    "print(perro_1.ladrar(\"Python\")) #aquí me está imprimiendo bien el mensaje pero también me imprime None, ¿por qué?"
   ]
  },
  {
   "cell_type": "code",
   "execution_count": null,
   "metadata": {},
   "outputs": [],
   "source": []
  }
 ],
 "metadata": {
  "colab": {
   "provenance": []
  },
  "kernelspec": {
   "display_name": "Python 3 (ipykernel)",
   "language": "python",
   "name": "python3"
  },
  "language_info": {
   "codemirror_mode": {
    "name": "ipython",
    "version": 3
   },
   "file_extension": ".py",
   "mimetype": "text/x-python",
   "name": "python",
   "nbconvert_exporter": "python",
   "pygments_lexer": "ipython3",
   "version": "3.12.4"
  }
 },
 "nbformat": 4,
 "nbformat_minor": 4
}
