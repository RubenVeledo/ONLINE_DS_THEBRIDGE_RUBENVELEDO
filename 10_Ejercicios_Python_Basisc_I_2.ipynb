{
 "cells": [
  {
   "cell_type": "markdown",
   "metadata": {
    "id": "GB2K42EgK9q5"
   },
   "source": [
    "![TheBridge_logo_RGB_color.jpg](attachment:TheBridge_logo_RGB_color.jpg)"
   ]
  },
  {
   "cell_type": "markdown",
   "metadata": {
    "id": "GnwVlO37K9q6"
   },
   "source": [
    "![imagen](./img/ejercicios.png)"
   ]
  },
  {
   "cell_type": "markdown",
   "metadata": {
    "id": "_9pTa0PXK9q6"
   },
   "source": [
    "## EJERCICIOS PYTHON BASICO 2:\n",
    "## Tipos y conversión de tipos"
   ]
  },
  {
   "cell_type": "markdown",
   "metadata": {
    "id": "tYmV-veoK9q6"
   },
   "source": [
    "Completa los siguiente ejercicios, la solución a los mismos se publicarán en el repo del curso a lo largo del sprint"
   ]
  },
  {
   "cell_type": "markdown",
   "metadata": {
    "id": "YAdFbIOXK9q7"
   },
   "source": [
    "![ejercicio.png](./img/ejercicio.png)\n",
    "\n",
    "## Ejercicio 1\n",
    "\n",
    "1. Crea dos variables numericas: un `int` y un `float`\n",
    "2. Comprueba sus tipos\n",
    "3. Sumalas en otra nueva\n",
    "4. ¿De qué tipo es la nueva variable?\n",
    "5. Elimina las dos primeras variables creadas"
   ]
  },
  {
   "cell_type": "code",
   "execution_count": 7,
   "metadata": {
    "id": "8QZmuLOsK9q7"
   },
   "outputs": [
    {
     "name": "stdout",
     "output_type": "stream",
     "text": [
      "<class 'int'>\n",
      "<class 'float'>\n",
      "55.5\n",
      "<class 'float'>\n"
     ]
    }
   ],
   "source": [
    "variable_int = 25\n",
    "variable_float = 30.5\n",
    "print(type(variable_int))\n",
    "print(type(variable_float))\n",
    "suma = variable_int + variable_float\n",
    "print(suma)\n",
    "print(type(suma))\n",
    "del variable_int, variable_float"
   ]
  },
  {
   "cell_type": "markdown",
   "metadata": {
    "id": "f5xfpkpQK9q7"
   },
   "source": [
    "![ejercicio.png](./img/ejercicio.png)\n",
    "\n",
    "## Ejercicio 2\n",
    "Escribe un programa para pasar de grados a radianes. Hay que usar `input`. Recuerda que la conversión se realiza mediante\n",
    "\n",
    "radianes = grados*(pi/180)"
   ]
  },
  {
   "cell_type": "code",
   "execution_count": 24,
   "metadata": {
    "id": "V50TUQMzK9q7"
   },
   "outputs": [
    {
     "name": "stdin",
     "output_type": "stream",
     "text": [
      "Introduce los grados que desea convertir a radianes: 67\n"
     ]
    },
    {
     "name": "stdout",
     "output_type": "stream",
     "text": [
      "67 equivalen a 1.1693705988362009 radianes\n"
     ]
    }
   ],
   "source": [
    "import math\n",
    "grados = int(input(\"Introduce los grados que desea convertir a radianes:\"))\n",
    "radianes = grados*(math.pi/180)\n",
    "print(f\"{grados} equivalen a {radianes} radianes\")"
   ]
  },
  {
   "cell_type": "markdown",
   "metadata": {
    "id": "zX3-p58CK9q7"
   },
   "source": [
    "![ejercicio.png](./img/ejercicio.png)\n",
    "\n",
    "## Ejercicio 3\n",
    "Escribe un programa que calcule el area de un paralelogramo (base x altura). También con `input`"
   ]
  },
  {
   "cell_type": "code",
   "execution_count": 30,
   "metadata": {
    "id": "s2QfNiBAK9q7"
   },
   "outputs": [
    {
     "name": "stdin",
     "output_type": "stream",
     "text": [
      "Indica el área en centímetros: 50\n",
      "Indica la altura en centímetos 60\n"
     ]
    },
    {
     "name": "stdout",
     "output_type": "stream",
     "text": [
      "El área de un paralelogramo de base 50cm y altura 60cm equivale a 3000 centímetros cuadrados.\n"
     ]
    }
   ],
   "source": [
    "base = int(input(\"Indica el área en centímetros:\"))\n",
    "altura = int(input(\"Indica la altura en centímetos\"))\n",
    "area = base * altura\n",
    "print(f\"El área de un paralelogramo de base {base}cm y altura {altura}cm equivale a {area} centímetros cuadrados.\")"
   ]
  },
  {
   "cell_type": "markdown",
   "metadata": {
    "id": "-6TBo_HvK9q8"
   },
   "source": [
    "![ejercicio.png](./img/ejercicio.png)\n",
    "\n",
    "## Ejercicio 4\n",
    "Escribe un programa que calcule el area de un paralelogramo (base x altura). También con `input`. En este caso debe ser capaz de admitir valores reales, con decimales, para base y altura en español. (PISTA: Recuerda que tendrás que hacer uso del método replace)"
   ]
  },
  {
   "cell_type": "code",
   "execution_count": 52,
   "metadata": {
    "id": "uzUIa1JqK9q8"
   },
   "outputs": [
    {
     "name": "stdin",
     "output_type": "stream",
     "text": [
      "Indica el área en centímetros en formato español (decimales con comas): 12,3\n"
     ]
    },
    {
     "name": "stdout",
     "output_type": "stream",
     "text": [
      "<class 'float'>\n"
     ]
    },
    {
     "name": "stdin",
     "output_type": "stream",
     "text": [
      "Indica la altura en centímetos en formato español (decimales con comas) 23,4\n"
     ]
    },
    {
     "name": "stdout",
     "output_type": "stream",
     "text": [
      "<class 'float'>\n",
      "El área de un paralelogramo de base 12.3cm y altura 23.4cm equivale a 287.82 centímetros cuadrados.\n"
     ]
    }
   ],
   "source": [
    "base = (input(\"Indica el área en centímetros en formato español (decimales con comas):\"))\n",
    "base = float(base.replace(\",\", \".\"))\n",
    "print(type(base))\n",
    "altura = (input(\"Indica la altura en centímetos en formato español (decimales con comas)\"))\n",
    "altura = float(altura.replace(\",\", \".\"))\n",
    "print(type(altura))\n",
    "area = base * altura\n",
    "print(f\"El área de un paralelogramo de base {base}cm y altura {altura}cm equivale a {area} centímetros cuadrados.\")"
   ]
  },
  {
   "cell_type": "markdown",
   "metadata": {
    "id": "5zKugi5iK9q8"
   },
   "source": [
    "![ejercicio.png](./img/ejercicio.png)\n",
    "\n",
    "## Ejercicio 5\n",
    "Complete el siguiente código para solicitar al usuario su nombre y su edad. Luego, calcule en qué año nació el usuario y muestre el resultado."
   ]
  },
  {
   "cell_type": "code",
   "execution_count": 54,
   "metadata": {
    "id": "LISfTnRkK9q8"
   },
   "outputs": [
    {
     "name": "stdin",
     "output_type": "stream",
     "text": [
      "¿Cuál es tu nombre?  Rubén\n",
      "¿Cuál es tu edad?  30\n"
     ]
    },
    {
     "name": "stdout",
     "output_type": "stream",
     "text": [
      "Rubén, naciste en el año 1994.\n"
     ]
    }
   ],
   "source": [
    "nombre = input(\"¿Cuál es tu nombre? \")\n",
    "edad = int(input(\"¿Cuál es tu edad? \"))\n",
    "año_actual = 2024  # Puedes cambiarlo según el año en curso\n",
    "año_nacimiento = año_actual - edad\n",
    "\n",
    "print(f\"{nombre}, naciste en el año {año_nacimiento}.\")\n"
   ]
  },
  {
   "cell_type": "code",
   "execution_count": null,
   "metadata": {},
   "outputs": [],
   "source": []
  }
 ],
 "metadata": {
  "colab": {
   "provenance": []
  },
  "kernelspec": {
   "display_name": "Python 3 (ipykernel)",
   "language": "python",
   "name": "python3"
  },
  "language_info": {
   "codemirror_mode": {
    "name": "ipython",
    "version": 3
   },
   "file_extension": ".py",
   "mimetype": "text/x-python",
   "name": "python",
   "nbconvert_exporter": "python",
   "pygments_lexer": "ipython3",
   "version": "3.12.4"
  }
 },
 "nbformat": 4,
 "nbformat_minor": 4
}
