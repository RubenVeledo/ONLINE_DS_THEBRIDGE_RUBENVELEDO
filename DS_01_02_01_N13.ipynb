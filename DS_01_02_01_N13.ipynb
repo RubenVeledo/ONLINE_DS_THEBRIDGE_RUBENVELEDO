{
 "cells": [
  {
   "cell_type": "markdown",
   "metadata": {
    "id": "9l3HMgm6RWxF"
   },
   "source": [
    "![TheBridge_logo_RGB_color.jpg](attachment:TheBridge_logo_RGB_color.jpg)"
   ]
  },
  {
   "cell_type": "markdown",
   "metadata": {
    "id": "RGg9iWpoRWxG"
   },
   "source": [
    "![ejercicios.png](attachment:ejercicios.png)"
   ]
  },
  {
   "cell_type": "markdown",
   "metadata": {
    "id": "AyOlWS2nRWxH"
   },
   "source": [
    "## PRACTICA OBLIGATORIA: COLECCIONES Y FUNCIONES"
   ]
  },
  {
   "cell_type": "markdown",
   "metadata": {
    "id": "6UOgb0KVRWxH"
   },
   "source": [
    "* La práctica obligatoria de esta unidad consiste varios ejercicios de programación libre a completar sobre Colecciones y Funciones. Descarga este notebook en tu ordenador y trabaja en local.  \n",
    "* Recuerda que debes subirla a tu repositorio personal antes de la sesión en vivo para que puntúe adecuadamente y puedas participar en dicha sesión.  \n",
    "* Recuerda también que no es necesario que esté perfecta, sólo es necesario que se vea el esfuerzo.\n",
    "* Esta práctica se resolverá en la sesión en vivo correspondiente y la solución se publicará en el repo del curso."
   ]
  },
  {
   "cell_type": "markdown",
   "metadata": {
    "id": "j3yu-tEjRWxH"
   },
   "source": [
    "### Contenidos"
   ]
  },
  {
   "cell_type": "markdown",
   "metadata": {
    "id": "kO-fLH39RWxH"
   },
   "source": [
    "## Ejercicio 1\n",
    "Eleva todos los elementos de la lista al cuadrado\n",
    "> ```ejer_2 = [1,2,3,4,5]```"
   ]
  },
  {
   "cell_type": "code",
   "execution_count": 5,
   "metadata": {
    "id": "ks5l3yi7RWxH"
   },
   "outputs": [
    {
     "name": "stdout",
     "output_type": "stream",
     "text": [
      "1\n",
      "4\n",
      "9\n",
      "16\n",
      "25\n"
     ]
    }
   ],
   "source": [
    "ejer_2 = [1,2,3,4,5]\n",
    "\n",
    "for i in ejer_2:\n",
    "    cuadrado = i ** 2\n",
    "    print(cuadrado)\n",
    "\n"
   ]
  },
  {
   "cell_type": "markdown",
   "metadata": {
    "id": "kI_Xr5oFRWxI"
   },
   "source": [
    "## Ejercicio 2\n",
    "Haz un programa que detecte todos los duplicados de un elemento en una lista:\n",
    "* Utiliza una variable duplicado para asignarle el valor del elemento del que queremos encontrar todos sus duplicados.\n",
    "* El programa debe devolver todos los índices de los elementos duplicados.\n",
    "* Aplícalo para encontrar los duplicados de \"un\", \"es\" y \"binario\" de:  \n",
    "\n",
    ">```ejer_3 = [\"Un\", \"árbol\", \"binario\", \"es\", \"una\", \"estructura\", \"de\", \"un\", \"tipo\", \"particular\", \"a\", \"veces\", \"no\", \"es\", \"ni\", \"binario\"]```\n"
   ]
  },
  {
   "cell_type": "code",
   "execution_count": 23,
   "metadata": {},
   "outputs": [],
   "source": [
    "ejer_3 = [\"Un\", \"árbol\", \"binario\", \"es\", \"una\", \"estructura\", \"de\", \"un\", \"tipo\", \"particular\", \"a\", \"veces\", \"no\", \"es\", \"ni\", \"binario\"]"
   ]
  },
  {
   "cell_type": "code",
   "execution_count": 21,
   "metadata": {
    "id": "cLY9WB7YRWxI"
   },
   "outputs": [
    {
     "ename": "IndentationError",
     "evalue": "expected an indented block after 'if' statement on line 7 (480273814.py, line 11)",
     "output_type": "error",
     "traceback": [
      "\u001b[1;36m  Cell \u001b[1;32mIn[21], line 11\u001b[1;36m\u001b[0m\n\u001b[1;33m    duplicado(ejer_3, \"un\")\u001b[0m\n\u001b[1;37m                           ^\u001b[0m\n\u001b[1;31mIndentationError\u001b[0m\u001b[1;31m:\u001b[0m expected an indented block after 'if' statement on line 7\n"
     ]
    }
   ],
   "source": [
    "ejer_3[0] = \"un\"\n",
    "\n",
    "def duplicado(ejer_3, palabra):\n",
    "    for i,valor in enumerate(ejer_3):\n",
    "        if valor == duplicado:\n",
    "            \n",
    "        \n",
    "\n",
    "duplicado(ejer_3, \"un\")"
   ]
  },
  {
   "cell_type": "markdown",
   "metadata": {
    "id": "3WrBd5QaRWxI"
   },
   "source": [
    "## Ejercicio 3\n",
    "1. ¿Cuántas veces se repite el 3 en la siguiente tupla?\n",
    "2. Crea una tupla nueva con los elementos desde la posicion 5 a la 10.\n",
    "3. ¿Cuántos elementos tiene la tupla `ejer_3`?\n",
    "> ```ejer_9 = (3, 20, 3, 47, 19, 3, 29, 45, 67, 78, 90, 3, 3, 5, 2, 4, 7, 9, 4, 2, 4, 3, 3, 4, 6, 7)```"
   ]
  },
  {
   "cell_type": "code",
   "execution_count": 37,
   "metadata": {
    "id": "bkv_R5LYRWxI"
   },
   "outputs": [
    {
     "name": "stdout",
     "output_type": "stream",
     "text": [
      "7\n",
      "(19, 3, 29, 45, 67, 78)\n",
      "16\n"
     ]
    }
   ],
   "source": [
    "ejer_9 = (3, 20, 3, 47, 19, 3, 29, 45, 67, 78, 90, 3, 3, 5, 2, 4, 7, 9, 4, 2, 4, 3, 3, 4, 6, 7)\n",
    "repe_3 = ejer_9.count(3)\n",
    "print(repe_3)\n",
    "nueva_tupla = ejer_9[4:10]\n",
    "print(nueva_tupla)\n",
    "contar_ejer_3 = len(ejer_3)\n",
    "print(contar_ejer_3)"
   ]
  },
  {
   "cell_type": "markdown",
   "metadata": {
    "id": "6g8Y54AeRWxI"
   },
   "source": [
    "## Ejercicio 4\n",
    "Comprueba si el numero 60 esta en la tupla del ejercicio 3"
   ]
  },
  {
   "cell_type": "code",
   "execution_count": 47,
   "metadata": {
    "id": "F8VTEZonRWxI"
   },
   "outputs": [
    {
     "name": "stdout",
     "output_type": "stream",
     "text": [
      "No\n"
     ]
    }
   ],
   "source": [
    "if 60 in ejer_9:\n",
    "    print(\"Sí\")\n",
    "else:\n",
    "    print(\"No\")"
   ]
  },
  {
   "cell_type": "markdown",
   "metadata": {
    "id": "y0fg-ZA6RWxI"
   },
   "source": [
    "## Ejercicio 5\n",
    "1. Convierte la tupla del ejercicio 3 en una lista\n",
    "2. Convierte la tupla del ejercicio 3 en un set\n",
    "3. Convierte la tupla del ejercicio 3 en un diccionario. Usa también los indices"
   ]
  },
  {
   "cell_type": "code",
   "execution_count": 87,
   "metadata": {
    "id": "_O5hXr01RWxI"
   },
   "outputs": [
    {
     "name": "stdout",
     "output_type": "stream",
     "text": [
      "<class 'list'>\n",
      "<class 'set'>\n",
      "{0: 3, 1: 20, 2: 3, 3: 47, 4: 19, 5: 3, 6: 29, 7: 45, 8: 67, 9: 78, 10: 90, 11: 3, 12: 3, 13: 5, 14: 2, 15: 4, 16: 7, 17: 9, 18: 4, 19: 2, 20: 4, 21: 3, 22: 3, 23: 4, 24: 6, 25: 7}\n"
     ]
    }
   ],
   "source": [
    "#1\n",
    "nueva_lista = list(ejer_9)\n",
    "print(type(nueva_lista))\n",
    "#2\n",
    "nuevo_set = set(ejer_9)\n",
    "print(type(nuevo_set))\n",
    "#3\n",
    "nuevo_diccionario = {}\n",
    "for indice, valor in enumerate(ejer_9):\n",
    "    nuevo_diccionario[indice] = valor\n",
    "\n",
    "print(nuevo_diccionario)\n",
    "   \n",
    "\n"
   ]
  },
  {
   "cell_type": "markdown",
   "metadata": {
    "id": "eOdWWbxvRWxJ"
   },
   "source": [
    "## Ejercicio 6\n",
    "Multiplica todos los valores del diccionario\n",
    "> ```ejer_6 = {1: 11, 2: 22, 3: 33, 4: 44, 5: 55}```"
   ]
  },
  {
   "cell_type": "code",
   "execution_count": 97,
   "metadata": {
    "id": "KcuByovKRWxJ"
   },
   "outputs": [
    {
     "name": "stdout",
     "output_type": "stream",
     "text": [
      "19326120\n"
     ]
    }
   ],
   "source": [
    "ejer_6 = {1: 11, 2: 22, 3: 33, 4: 44, 5: 55}\n",
    "\n",
    "resultado = 1\n",
    "\n",
    "for valor in ejer_6.values():\n",
    "    resultado = resultado * valor\n",
    "\n",
    "print(resultado)"
   ]
  },
  {
   "cell_type": "markdown",
   "metadata": {
    "id": "W7TUSaKRRWxJ"
   },
   "source": [
    "## Ejercicio 7\n",
    "\n",
    "1. Crea un diccionario que describa un libro, con los siguientes campos o claves: \"titulo\",\"autor\",\"idioma original\",\"año de publicación\".\n",
    "2. Crea un a lista, llamada librería.\n",
    "3. Añade cuatro libros a tu elección a la librería."
   ]
  },
  {
   "cell_type": "code",
   "execution_count": 9,
   "metadata": {
    "id": "d-IMRvxRRWxJ",
    "vscode": {
     "languageId": "plaintext"
    }
   },
   "outputs": [
    {
     "name": "stdout",
     "output_type": "stream",
     "text": [
      "[{'titulo': '1984', 'autor': 'George Orwell', 'idioma original': 'inglés', 'año de publicación': '1949'}, {'titulo': 'Rebelión en la granja', 'autor': 'George Orwell', 'idioma original': 'inglés', 'año de publicación': '1945'}, {'titulo': 'Tokio Blues', 'autor': 'Haruki Murakami', 'idioma original': 'japonés', 'año de publicación': '1987'}, {'titulo': 'Reina Roja', 'autor': 'Juan Gómez Jurado', 'idioma original': 'español', 'año de publicación': '2018'}]\n"
     ]
    }
   ],
   "source": [
    "libreria = []\n",
    "libreria.append({\"titulo\": \"1984\", \"autor\": \"George Orwell\", \"idioma original\": \"inglés\", \"año de publicación\": \"1949\"})\n",
    "libreria.append({\"titulo\": \"Rebelión en la granja\", \"autor\": \"George Orwell\", \"idioma original\": \"inglés\", \"año de publicación\": \"1945\"})\n",
    "libreria.append({\"titulo\": \"Tokio Blues\", \"autor\": \"Haruki Murakami\", \"idioma original\": \"japonés\", \"año de publicación\": \"1987\"})\n",
    "libreria.append({\"titulo\": \"Reina Roja\", \"autor\": \"Juan Gómez Jurado\", \"idioma original\": \"español\", \"año de publicación\": \"2018\"})\n",
    "print(libreria)"
   ]
  },
  {
   "cell_type": "markdown",
   "metadata": {
    "id": "glMoedjYRWxJ"
   },
   "source": [
    "## Ejercicio 8\n",
    "Modifica los valores del idioma de todos los libros del ejercicio anterior para que sea \"esperanto\"\n"
   ]
  },
  {
   "cell_type": "code",
   "execution_count": 135,
   "metadata": {
    "id": "veNdC-uwRWxJ"
   },
   "outputs": [
    {
     "name": "stdout",
     "output_type": "stream",
     "text": [
      "[{'titulo': '1984', 'autor': 'George Orwell', 'idioma original': 'esperanto', 'año de publicación': '1949'}, {'titulo': 'Rebelión en la granja', 'autor': 'George Orwell', 'idioma original': 'esperanto', 'año de publicación': '1945'}, {'titulo': 'Tokio Blues', 'autor': 'Haruki Murakami', 'idioma original': 'esperanto', 'año de publicación': '1987'}, {'titulo': 'Reina Roja', 'autor': 'Juan Gómez Jurado', 'idioma original': 'esperanto', 'año de publicación': '2018'}]\n"
     ]
    }
   ],
   "source": [
    "for libro in libreria:\n",
    "    libro[\"idioma original\"] = \"esperanto\"\n",
    "\n",
    "print(libreria)"
   ]
  },
  {
   "cell_type": "markdown",
   "metadata": {
    "id": "DRCJG04KRWxJ"
   },
   "source": [
    "## Ejercicio 9\n",
    "1. Escribe un programa que dada una variable titulo busque los libros que hay en la librería con ese título. Si no se encuentra debe devolver el mensaje `Ese no lo tengo, ¿mola?`\n",
    "2. Pruena que el programa con uno de tus libros y con otro que no contenga tu librería."
   ]
  },
  {
   "cell_type": "code",
   "execution_count": 215,
   "metadata": {
    "id": "eWHdJi9BRWxJ"
   },
   "outputs": [
    {
     "name": "stdout",
     "output_type": "stream",
     "text": [
      "Ese no lo tengo, ¿mola?\n",
      "Ese no lo tengo, ¿mola?\n",
      "Ese no lo tengo, ¿mola?\n",
      "{'titulo': 'Reina Roja', 'autor': 'Juan Gómez Jurado', 'idioma original': 'esperanto', 'año de publicación': '2018'}\n"
     ]
    }
   ],
   "source": [
    "titulo_buscar = \"Reina Roja\"\n",
    "\n",
    "for libro in libreria:\n",
    "    if libro[\"titulo\"] == titulo_buscar:\n",
    "        print(libro)\n",
    "    else:\n",
    "        print(\"Ese no lo tengo, ¿mola?\")\n",
    "        #break ¿Por qué si pongo un break para detener el bucle? ni siquiera me saca el resultado del libro.\n",
    "       \n",
    "\n",
    "    "
   ]
  },
  {
   "cell_type": "markdown",
   "metadata": {
    "id": "17YOpYuFRWxJ"
   },
   "source": [
    "## Ejercicio 10\n",
    "Convierte el programa del ejercicio 2 en una función al que se le pase el valor a buscar como un argumento posicional"
   ]
  },
  {
   "cell_type": "code",
   "execution_count": 193,
   "metadata": {
    "id": "xbj0LgvnRWxJ"
   },
   "outputs": [
    {
     "name": "stdout",
     "output_type": "stream",
     "text": [
      "{'titulo': '1984', 'autor': 'George Orwell', 'idioma original': 'esperanto', 'año de publicación': '1949'}\n",
      "Ese no lo tengo, ¿mola?\n",
      "None\n"
     ]
    }
   ],
   "source": [
    "def buscar_libro(titulo):\n",
    "    for libro in libreria:\n",
    "        if libro[\"titulo\"] == titulo:\n",
    "            return libro\n",
    "        else:\n",
    "            print(\"Ese no lo tengo, ¿mola?\")\n",
    "            break\n",
    "\n",
    "print(buscar_libro(\"1984\"))\n",
    "print(buscar_libro(\"Gomorra\"))\n",
    "#¿Por qué imprime el valor None al final?"
   ]
  },
  {
   "cell_type": "markdown",
   "metadata": {
    "id": "xZ-sWJxPRWxJ"
   },
   "source": [
    "## Ejercicio 11\n",
    "Convierte el programa del ejercicio 9 en una función al que se le pasen como argumentos la librería, posicional, y el título, argumento keyword con valor \"ninguno\", por defecto."
   ]
  },
  {
   "cell_type": "code",
   "execution_count": 11,
   "metadata": {
    "id": "4-JrsMdNRWxK"
   },
   "outputs": [
    {
     "name": "stdout",
     "output_type": "stream",
     "text": [
      "Intoduce un titulo\n",
      "Ese no lo tengo, ¿mola?\n",
      "None\n",
      "Ese no lo tengo, ¿mola?\n",
      "None\n"
     ]
    }
   ],
   "source": [
    "def buscar_libro(libreria, titulo = \"ninguno\"):\n",
    "    if titulo == \"ninguno\":\n",
    "        print(\"Intoduce un titulo\")\n",
    "    for libro in libreria:\n",
    "        if libro[\"titulo\"] == titulo:\n",
    "            return libro\n",
    "        else:\n",
    "            print(\"Ese no lo tengo, ¿mola?\")\n",
    "            break\n",
    "\n",
    "print(buscar_libro(libreria,)) #Me imprime bien el print(\"Introduce un titulo\"), pero sigue imprimiendo resultados\n",
    "print(buscar_libro(libreria, \"Reina Roja\")) #No me imprime el libro"
   ]
  },
  {
   "cell_type": "markdown",
   "metadata": {
    "id": "FtJir95QRWxK"
   },
   "source": [
    "## Ejercicio 12\n",
    "Solicitar al usuario que ingrese su dirección email. Imprimir un mensaje indicando si la dirección es válida o no, valiéndose de una función para decidirlo. Una dirección se considerará válida si contiene el símbolo \"@\"."
   ]
  },
  {
   "cell_type": "code",
   "execution_count": 235,
   "metadata": {
    "id": "sk852IZ8RWxK"
   },
   "outputs": [
    {
     "name": "stdin",
     "output_type": "stream",
     "text": [
      "Introduce tu email: ruben@gmail.com\n"
     ]
    },
    {
     "name": "stdout",
     "output_type": "stream",
     "text": [
      "Email válido\n"
     ]
    }
   ],
   "source": [
    "email = input(\"Introduce tu email:\")\n",
    "\n",
    "def email_valido(email):\n",
    "    if \"@\" in email:\n",
    "        print(\"Email válido\")\n",
    "    else:\n",
    "        print(\"Email no válido\")\n",
    "\n",
    "email_valido(email)"
   ]
  },
  {
   "cell_type": "markdown",
   "metadata": {
    "id": "Kw1MWBwBRWxK"
   },
   "source": [
    "## Ejercicio 13\n",
    "Escribe una función que compruebe si un DNI es válido, devolviendo `True` en caso afirmativo.  \n",
    "En primer lugar, el DNI debe tener entre 7 y 8 dígitos numéricos.  \n",
    "Para saber si la letra del DNI es correcta puedes utilizar el siguiente fragmento de código:\n",
    ">```Python\n",
    ">DNI= 55555555\n",
    ">palabra='TRWAGMYFPDXBNJZSQVHLCKE'\n",
    ">print('La letra del DNI es: ', palabra[DNI%23])\n",
    ">````\n"
   ]
  },
  {
   "cell_type": "code",
   "execution_count": 33,
   "metadata": {
    "id": "F5Z9rSHqRWxK"
   },
   "outputs": [
    {
     "name": "stdout",
     "output_type": "stream",
     "text": [
      "True\n",
      "True\n"
     ]
    }
   ],
   "source": [
    "def dni_valido(dni):\n",
    "    if len(dni) >= 7 and len(dni) <= 8:\n",
    "        return True \n",
    "    if dni.isdigit():\n",
    "        return True \n",
    "    return True\n",
    "    dni = int(dni)\n",
    "    palabra = 'TRWAGMYFPDXBNJZSQVHLCKE'\n",
    "    letra_valida = palabra[DNI%23]\n",
    "    if letra_valida == dni[-1]:\n",
    "        return True\n",
    "    return True\n",
    "\n",
    "print(dni_valido(\"7163849S\"))\n",
    "print(dni_valido(\"8735C\")) #No entiendo por qué me resuelve a True esta"
   ]
  },
  {
   "cell_type": "code",
   "execution_count": null,
   "metadata": {},
   "outputs": [],
   "source": []
  }
 ],
 "metadata": {
  "colab": {
   "provenance": []
  },
  "kernelspec": {
   "display_name": "Python 3 (ipykernel)",
   "language": "python",
   "name": "python3"
  },
  "language_info": {
   "codemirror_mode": {
    "name": "ipython",
    "version": 3
   },
   "file_extension": ".py",
   "mimetype": "text/x-python",
   "name": "python",
   "nbconvert_exporter": "python",
   "pygments_lexer": "ipython3",
   "version": "3.12.4"
  }
 },
 "nbformat": 4,
 "nbformat_minor": 4
}
